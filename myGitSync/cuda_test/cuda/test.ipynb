{
 "cells": [
  {
   "cell_type": "code",
   "execution_count": 1,
   "metadata": {},
   "outputs": [
    {
     "name": "stdout",
     "output_type": "stream",
     "text": [
      "max diff: 0.0, min diff: 0.0\n"
     ]
    }
   ],
   "source": [
    "import torch\n",
    "def cal_diff(a, b):\n",
    "    diff = a - b\n",
    "    print(\"max diff: {}, min diff: {}\".format(diff.max(), diff.min()))\n",
    "M, N, K = 4096, 1024, 4096\n",
    "torch_a_cuda = torch.ones(M, K, dtype=torch.float32, device=\"cuda\")\n",
    "torch_b_cuda = torch.arange(1, K + 1, dtype=torch.float32, device=\"cuda\").unsqueeze(-1).repeat(1, N)\n",
    "torch_c_cuda = torch.matmul(torch_a_cuda, torch_b_cuda)\n",
    "\n",
    "torch_a_cpu = torch_a_cuda.cpu()\n",
    "torch_b_cpu = torch_b_cuda.cpu()\n",
    "torch_c_cpu = torch.matmul(torch_a_cpu, torch_b_cpu)\n",
    "\n",
    "cal_diff(torch_c_cuda.cpu(), torch_c_cpu)"
   ]
  }
 ],
 "metadata": {
  "kernelspec": {
   "display_name": "Python 3",
   "language": "python",
   "name": "python3"
  },
  "language_info": {
   "codemirror_mode": {
    "name": "ipython",
    "version": 3
   },
   "file_extension": ".py",
   "mimetype": "text/x-python",
   "name": "python",
   "nbconvert_exporter": "python",
   "pygments_lexer": "ipython3",
   "version": "3.12.7+gc"
  }
 },
 "nbformat": 4,
 "nbformat_minor": 2
}
